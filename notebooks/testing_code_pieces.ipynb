{
 "cells": [
  {
   "cell_type": "code",
   "execution_count": null,
   "id": "04f9493a",
   "metadata": {},
   "outputs": [],
   "source": [
    "import tensorflow as tf"
   ]
  },
  {
   "cell_type": "code",
   "execution_count": null,
   "id": "042f96b8",
   "metadata": {},
   "outputs": [],
   "source": [
    "base_model = tf.keras.applications.MobileNetV2(input_shape=[128, 128, 3], include_top=False)"
   ]
  },
  {
   "cell_type": "code",
   "execution_count": null,
   "id": "2a1e1db2",
   "metadata": {},
   "outputs": [],
   "source": [
    "layer_names = [\n",
    "            'block_1_expand_relu',  # 64x64\n",
    "            'block_3_expand_relu',  # 32x32\n",
    "            'block_6_expand_relu',  # 16x16\n",
    "            'block_13_expand_relu',  # 8x8\n",
    "            'block_16_project',  # 4x4\n",
    "        ]\n",
    "layers = [base_model.get_layer(name).output for name in layer_names]"
   ]
  },
  {
   "cell_type": "code",
   "execution_count": null,
   "id": "be23f1e9",
   "metadata": {},
   "outputs": [],
   "source": [
    "down_stack = tf.keras.Model(inputs=base_model.input, outputs=layers)"
   ]
  },
  {
   "cell_type": "code",
   "execution_count": null,
   "id": "ac93633f",
   "metadata": {
    "scrolled": true
   },
   "outputs": [],
   "source": [
    "model_img_file = 'model.png'\n",
    "tf.keras.utils.plot_model(down_stack, to_file=model_img_file, \n",
    "                          show_shapes=False, \n",
    "                          show_layer_activations=False, \n",
    "                          show_dtype=False,\n",
    "                          show_layer_names=True )"
   ]
  },
  {
   "cell_type": "code",
   "execution_count": null,
   "id": "078b8ef5",
   "metadata": {},
   "outputs": [],
   "source": [
    "import glob\n",
    "import numpy as np\n",
    "import tensorflow as tf\n",
    "import SimpleITK as sitk\n",
    "\n",
    "\n",
    "class Pre_process:\n",
    "    \"\"\"Data Loader class\"\"\"\n",
    "\n",
    "    def pad_images(self, img=None, target_width: int = 64, target_height: int = 64):\n",
    "        \"\"\"Padding the sizes fo the images\n",
    "        Args:\n",
    "            img (np.array): input image to be padded\n",
    "            target_width (int): width of the frame\n",
    "            target_height (int): height of the frame\n",
    "        Return:\n",
    "            padded_img (np.array): Padded image\n",
    "        \"\"\"\n",
    "        padded_image = np.pad(img, [(0, target_width - img.shape[0]),\n",
    "                                    (0, target_height - img.shape[1])], mode='constant')\n",
    "\n",
    "        return padded_image\n",
    "\n",
    "    def normalize_images(self, img=None, normalization_type='divide_255'):\n",
    "        \"\"\"\n",
    "        Args:\n",
    "            img: numpy 4D array\n",
    "            normalization_type: `str`, available choices:\n",
    "                - divide_255\n",
    "                - divide_256\n",
    "                - by_chanels\n",
    "        \"\"\"\n",
    "        if normalization_type == 'divide_255':\n",
    "            images = img / 255\n",
    "        elif normalization_type == 'divide_256':\n",
    "            images = img / 256\n",
    "        elif normalization_type is None:\n",
    "            pass\n",
    "        else:\n",
    "            raise Exception(\"Unknown type of normalization\")\n",
    "        return img"
   ]
  },
  {
   "cell_type": "code",
   "execution_count": null,
   "id": "5ac2f20b",
   "metadata": {},
   "outputs": [],
   "source": [
    "class Chunk_data_loader(tf.keras.utils.Sequence):\n",
    "    \"\"\" Loads data in chunks and useful when the process are getting out of memory\n",
    "    Args:\n",
    "        batch_size (int): number of samples in one batch\n",
    "        input_img_paths (str): image paths\n",
    "        label_img_paths (str): label paths\n",
    "    Returns:\n",
    "        image_batch, label_batch\n",
    "    \"\"\"\n",
    "\n",
    "    def __init__(self, batch_size, input_img_paths, label_img_paths):\n",
    "        self.batch_size = batch_size\n",
    "        self.input_img_paths = input_img_paths\n",
    "        self.label_img_paths = label_img_paths\n",
    "\n",
    "    def __len__(self):\n",
    "        return len(self.target_img_paths) // self.batch_size\n",
    "\n",
    "    def __getitem__(self, idx):\n",
    "        \"\"\"Returns tuple (input, target) correspond to batch #idx.\"\"\"\n",
    "\n",
    "        prepro = Pre_process()\n",
    "        i = idx * self.batch_size\n",
    "        batch_input_img_paths = self.input_img_paths[i: i + self.batch_size]\n",
    "        batch_target_img_paths = self.label_img_paths[i: i + self.batch_size]\n",
    "\n",
    "        # Loading images\n",
    "        img_batch_array = []\n",
    "        #print(batch_input_img_paths)\n",
    "        for file_name in batch_input_img_paths:\n",
    "            img = sitk.ReadImage(file_name)\n",
    "            img = sitk.GetArrayFromImage(img)\n",
    "\n",
    "            img_array = []\n",
    "            for frame in img:\n",
    "                # Padding the image and normalizing it\n",
    "                temp = prepro.pad_images(frame, target_width=64, target_height=64)\n",
    "                temp = prepro.normalize_images(temp)\n",
    "                img_array.append(temp)\n",
    "            img_batch_array.append(img_array)\n",
    "        img_batch_array = np.array(img_batch_array)\n",
    "\n",
    "        # Loading label\n",
    "        label_batch_array = []\n",
    "        for file_name in batch_target_img_paths:\n",
    "            img = sitk.ReadImage(file_name)\n",
    "            img = sitk.GetArrayFromImage(img)\n",
    "\n",
    "            img_array = []\n",
    "            for frame in img:\n",
    "                # Padding the image and converting it into int\n",
    "                temp = prepro.pad_images(frame, target_width=64, target_height=64)\n",
    "                temp = temp.astype(int)\n",
    "                img_array.append(temp)\n",
    "            label_batch_array.append(img_array)\n",
    "        label_batch_array = np.array(label_batch_array)\n",
    "\n",
    "        return img_batch_array, label_batch_array"
   ]
  },
  {
   "cell_type": "code",
   "execution_count": null,
   "id": "8eb0ed41",
   "metadata": {},
   "outputs": [],
   "source": []
  },
  {
   "cell_type": "code",
   "execution_count": null,
   "id": "82e188d1",
   "metadata": {},
   "outputs": [],
   "source": [
    "image_path = \"D:/mine/AISummer/project2/data/Task04_Hippocampus/imagesTr/\"\n",
    "label_path = \"D:/mine/AISummer/project2/data/Task04_Hippocampus/labelsTr/\"\n",
    "batch_size = 8\n"
   ]
  },
  {
   "cell_type": "code",
   "execution_count": null,
   "id": "64196e6b",
   "metadata": {},
   "outputs": [],
   "source": [
    "import random\n",
    "val_samples = 20\n",
    "\n",
    "def data_generator():\n",
    "    input_img_paths = []\n",
    "    full_path = image_path + \"*.*\"\n",
    "    for file_name in glob.iglob(full_path):\n",
    "        input_img_paths.append(file_name)\n",
    "    input_img_paths = np.array(input_img_paths)\n",
    "\n",
    "\n",
    "    input_label_paths = []\n",
    "    full_path = label_path + \"*.*\"\n",
    "    for file_name in glob.iglob(full_path):\n",
    "        input_label_paths.append(file_name)\n",
    "    input_label_paths = np.array(input_label_paths)\n",
    "\n",
    "    random.Random(1337).shuffle(input_img_paths)\n",
    "    train_input_img_paths = input_img_paths[:-val_samples]\n",
    "    train_input_label_paths = input_label_paths[:-val_samples]\n",
    "\n",
    "    data_gen = Chunk_data_loader(batch_size, train_input_img_paths, train_input_label_paths)\n",
    "    \n",
    "    x, y = data_gen.__getitem__(2)\n",
    "    \n",
    "    print(x.shape, y.shape)\n",
    "    \n",
    "    return data_gen"
   ]
  },
  {
   "cell_type": "code",
   "execution_count": null,
   "id": "5744cb46",
   "metadata": {},
   "outputs": [],
   "source": [
    "train_gen = data_generator()"
   ]
  },
  {
   "cell_type": "code",
   "execution_count": null,
   "id": "ec166d3a",
   "metadata": {},
   "outputs": [],
   "source": [
    "train_gen"
   ]
  },
  {
   "cell_type": "code",
   "execution_count": null,
   "id": "5a7f900c",
   "metadata": {},
   "outputs": [],
   "source": [
    "x , y = train_gen.next() "
   ]
  },
  {
   "cell_type": "code",
   "execution_count": 1,
   "id": "727b2883",
   "metadata": {},
   "outputs": [],
   "source": [
    "import tensorflow as tf\n",
    "from tensorflow.keras.layers import Conv2D, Dropout, Input, MaxPool2D, Conv2DTranspose, concatenate\n",
    "\n",
    "layer_filter = [16, 32, 64, 128, 256]"
   ]
  },
  {
   "cell_type": "code",
   "execution_count": 2,
   "id": "b155d59d",
   "metadata": {},
   "outputs": [],
   "source": [
    "inputs = tf.keras.layers.Input(shape=[64, 64, 1])\n",
    "x = inputs"
   ]
  },
  {
   "cell_type": "code",
   "execution_count": 3,
   "id": "29245138",
   "metadata": {},
   "outputs": [],
   "source": [
    "class CNNBlocks:\n",
    "    def __init__(self,  kernel_size):\n",
    "        self.activation = \"relu\"\n",
    "        self.reg = tf.keras.regularizers.l1_l2(l1=1e-5, l2=1e-4)\n",
    "        self.kernel = kernel_size\n",
    "        self.dropout = 0.1\n",
    "        \n",
    "    def conv_down(self, n_conv, inputs):\n",
    "        \n",
    "        cd = Conv2D(n_conv, self.kernel, activation=self.activation,\n",
    "                    kernel_regularizer=self.reg, padding='same')(inputs)\n",
    "        cd = Dropout(self.dropout)(cd)\n",
    "        cd = Conv2D(n_conv, self.kernel, activation=self.activation,\n",
    "                    kernel_regularizer=self.reg, padding='same')(cd)\n",
    "        \n",
    "        return cd\n",
    "        \n",
    "        \n",
    "    def concat(self, n_conv, inputs, skip):\n",
    "        con = Conv2DTranspose(n_conv, (2, 2), strides=(2, 2), padding='same')(inputs)\n",
    "        con = concatenate([con, skip])\n",
    "        \n",
    "        return con"
   ]
  },
  {
   "cell_type": "code",
   "execution_count": 33,
   "id": "c4379d06",
   "metadata": {},
   "outputs": [],
   "source": [
    "conv_block = CNNBlocks(kernel_size=3)\n",
    "\n",
    "d1 = conv_block.conv_down(layer_filter[0], inputs)\n",
    "p1 = MaxPool2D((2, 2))(d1)\n",
    "\n",
    "d2 = conv_block.conv_down(layer_filter[1], p1)\n",
    "p2 = MaxPool2D((2, 2))(d2)\n",
    "\n",
    "d3 = conv_block.conv_down(layer_filter[2], p2)\n",
    "p3 = MaxPool2D((2, 2))(d3)\n",
    "\n",
    "d4 = conv_block.conv_down(layer_filter[3], p3)\n",
    "p4 = MaxPool2D((2, 2))(d4)\n",
    "\n",
    "d5 = conv_block.conv_down(layer_filter[4], p4)\n",
    "\n",
    "\n",
    "u6 = conv_block.concat(layer_filter[3], d5, d4)\n",
    "u6 = conv_block.conv_down(layer_filter[3], u6)\n",
    "\n",
    "u7 = conv_block.concat(layer_filter[2], u6, d3)\n",
    "u7 = conv_block.conv_down(layer_filter[2], u7)\n",
    "\n",
    "u8 = conv_block.concat(layer_filter[1], u7, d2)\n",
    "u8 = conv_block.conv_up(layer_filter[1], u8)\n",
    "\n",
    "u9 = conv_block.concat(layer_filter[0], u8, d1)\n",
    "u9 = conv_block.conv_up(layer_filter[0], u9)\n",
    "\n",
    "outputs = tf.keras.layers.Conv2D(1, (1, 1), activation='sigmoid')(u9)\n",
    "\n",
    "model = tf.keras.Model(inputs=[inputs], outputs=[outputs])"
   ]
  },
  {
   "cell_type": "code",
   "execution_count": 34,
   "id": "4b9f03df",
   "metadata": {
    "collapsed": true
   },
   "outputs": [
    {
     "name": "stdout",
     "output_type": "stream",
     "text": [
      "Model: \"model_12\"\n",
      "__________________________________________________________________________________________________\n",
      " Layer (type)                   Output Shape         Param #     Connected to                     \n",
      "==================================================================================================\n",
      " input_1 (InputLayer)           [(None, 64, 64, 1)]  0           []                               \n",
      "                                                                                                  \n",
      " conv2d_235 (Conv2D)            (None, 64, 64, 16)   160         ['input_1[0][0]']                \n",
      "                                                                                                  \n",
      " dropout_111 (Dropout)          (None, 64, 64, 16)   0           ['conv2d_235[0][0]']             \n",
      "                                                                                                  \n",
      " conv2d_236 (Conv2D)            (None, 64, 64, 16)   2320        ['dropout_111[0][0]']            \n",
      "                                                                                                  \n",
      " max_pooling2d_68 (MaxPooling2D  (None, 32, 32, 16)  0           ['conv2d_236[0][0]']             \n",
      " )                                                                                                \n",
      "                                                                                                  \n",
      " conv2d_237 (Conv2D)            (None, 32, 32, 32)   4640        ['max_pooling2d_68[0][0]']       \n",
      "                                                                                                  \n",
      " dropout_112 (Dropout)          (None, 32, 32, 32)   0           ['conv2d_237[0][0]']             \n",
      "                                                                                                  \n",
      " conv2d_238 (Conv2D)            (None, 32, 32, 32)   9248        ['dropout_112[0][0]']            \n",
      "                                                                                                  \n",
      " max_pooling2d_69 (MaxPooling2D  (None, 16, 16, 32)  0           ['conv2d_238[0][0]']             \n",
      " )                                                                                                \n",
      "                                                                                                  \n",
      " conv2d_239 (Conv2D)            (None, 16, 16, 64)   18496       ['max_pooling2d_69[0][0]']       \n",
      "                                                                                                  \n",
      " dropout_113 (Dropout)          (None, 16, 16, 64)   0           ['conv2d_239[0][0]']             \n",
      "                                                                                                  \n",
      " conv2d_240 (Conv2D)            (None, 16, 16, 64)   36928       ['dropout_113[0][0]']            \n",
      "                                                                                                  \n",
      " max_pooling2d_70 (MaxPooling2D  (None, 8, 8, 64)    0           ['conv2d_240[0][0]']             \n",
      " )                                                                                                \n",
      "                                                                                                  \n",
      " conv2d_241 (Conv2D)            (None, 8, 8, 128)    73856       ['max_pooling2d_70[0][0]']       \n",
      "                                                                                                  \n",
      " dropout_114 (Dropout)          (None, 8, 8, 128)    0           ['conv2d_241[0][0]']             \n",
      "                                                                                                  \n",
      " conv2d_242 (Conv2D)            (None, 8, 8, 128)    147584      ['dropout_114[0][0]']            \n",
      "                                                                                                  \n",
      " max_pooling2d_71 (MaxPooling2D  (None, 4, 4, 128)   0           ['conv2d_242[0][0]']             \n",
      " )                                                                                                \n",
      "                                                                                                  \n",
      " conv2d_243 (Conv2D)            (None, 4, 4, 256)    295168      ['max_pooling2d_71[0][0]']       \n",
      "                                                                                                  \n",
      " dropout_115 (Dropout)          (None, 4, 4, 256)    0           ['conv2d_243[0][0]']             \n",
      "                                                                                                  \n",
      " conv2d_244 (Conv2D)            (None, 4, 4, 256)    590080      ['dropout_115[0][0]']            \n",
      "                                                                                                  \n",
      " conv2d_transpose_33 (Conv2DTra  (None, 8, 8, 128)   131200      ['conv2d_244[0][0]']             \n",
      " nspose)                                                                                          \n",
      "                                                                                                  \n",
      " concatenate_32 (Concatenate)   (None, 8, 8, 256)    0           ['conv2d_transpose_33[0][0]',    \n",
      "                                                                  'conv2d_242[0][0]']             \n",
      "                                                                                                  \n",
      " conv2d_245 (Conv2D)            (None, 8, 8, 128)    295040      ['concatenate_32[0][0]']         \n",
      "                                                                                                  \n",
      " dropout_116 (Dropout)          (None, 8, 8, 128)    0           ['conv2d_245[0][0]']             \n",
      "                                                                                                  \n",
      " conv2d_246 (Conv2D)            (None, 8, 8, 128)    147584      ['dropout_116[0][0]']            \n",
      "                                                                                                  \n",
      " conv2d_transpose_34 (Conv2DTra  (None, 16, 16, 64)  32832       ['conv2d_246[0][0]']             \n",
      " nspose)                                                                                          \n",
      "                                                                                                  \n",
      " concatenate_33 (Concatenate)   (None, 16, 16, 128)  0           ['conv2d_transpose_34[0][0]',    \n",
      "                                                                  'conv2d_240[0][0]']             \n",
      "                                                                                                  \n",
      " conv2d_247 (Conv2D)            (None, 16, 16, 64)   73792       ['concatenate_33[0][0]']         \n",
      "                                                                                                  \n",
      " dropout_117 (Dropout)          (None, 16, 16, 64)   0           ['conv2d_247[0][0]']             \n",
      "                                                                                                  \n",
      " conv2d_248 (Conv2D)            (None, 16, 16, 64)   36928       ['dropout_117[0][0]']            \n",
      "                                                                                                  \n",
      " conv2d_transpose_35 (Conv2DTra  (None, 32, 32, 32)  8224        ['conv2d_248[0][0]']             \n",
      " nspose)                                                                                          \n",
      "                                                                                                  \n",
      " concatenate_34 (Concatenate)   (None, 32, 32, 64)   0           ['conv2d_transpose_35[0][0]',    \n",
      "                                                                  'conv2d_238[0][0]']             \n",
      "                                                                                                  \n",
      " conv2d_249 (Conv2D)            (None, 32, 32, 32)   18464       ['concatenate_34[0][0]']         \n",
      "                                                                                                  \n",
      " dropout_118 (Dropout)          (None, 32, 32, 32)   0           ['conv2d_249[0][0]']             \n",
      "                                                                                                  \n",
      " conv2d_250 (Conv2D)            (None, 32, 32, 32)   9248        ['dropout_118[0][0]']            \n",
      "                                                                                                  \n"
     ]
    },
    {
     "name": "stdout",
     "output_type": "stream",
     "text": [
      " conv2d_transpose_36 (Conv2DTra  (None, 64, 64, 16)  2064        ['conv2d_250[0][0]']             \n",
      " nspose)                                                                                          \n",
      "                                                                                                  \n",
      " concatenate_35 (Concatenate)   (None, 64, 64, 32)   0           ['conv2d_transpose_36[0][0]',    \n",
      "                                                                  'conv2d_236[0][0]']             \n",
      "                                                                                                  \n",
      " conv2d_251 (Conv2D)            (None, 64, 64, 16)   4624        ['concatenate_35[0][0]']         \n",
      "                                                                                                  \n",
      " dropout_119 (Dropout)          (None, 64, 64, 16)   0           ['conv2d_251[0][0]']             \n",
      "                                                                                                  \n",
      " conv2d_252 (Conv2D)            (None, 64, 64, 16)   2320        ['dropout_119[0][0]']            \n",
      "                                                                                                  \n",
      " conv2d_253 (Conv2D)            (None, 64, 64, 1)    17          ['conv2d_252[0][0]']             \n",
      "                                                                                                  \n",
      "==================================================================================================\n",
      "Total params: 1,940,817\n",
      "Trainable params: 1,940,817\n",
      "Non-trainable params: 0\n",
      "__________________________________________________________________________________________________\n"
     ]
    }
   ],
   "source": [
    "model.summary()"
   ]
  },
  {
   "cell_type": "code",
   "execution_count": 4,
   "id": "8f4260dc",
   "metadata": {},
   "outputs": [
    {
     "data": {
      "text/plain": [
       "(36, 64, 64)"
      ]
     },
     "execution_count": 4,
     "metadata": {},
     "output_type": "execute_result"
    }
   ],
   "source": [
    "import numpy as np\n",
    "\n",
    "x = np.zeros((31, 64, 64))\n",
    "y = np.ones((5, 64, 64))\n",
    "\n",
    "a = np.vstack((x, y))\n",
    "a.shape"
   ]
  },
  {
   "cell_type": "code",
   "execution_count": null,
   "id": "59120e84",
   "metadata": {},
   "outputs": [],
   "source": []
  }
 ],
 "metadata": {
  "kernelspec": {
   "display_name": "Python 3 (ipykernel)",
   "language": "python",
   "name": "python3"
  },
  "language_info": {
   "codemirror_mode": {
    "name": "ipython",
    "version": 3
   },
   "file_extension": ".py",
   "mimetype": "text/x-python",
   "name": "python",
   "nbconvert_exporter": "python",
   "pygments_lexer": "ipython3",
   "version": "3.10.8"
  }
 },
 "nbformat": 4,
 "nbformat_minor": 5
}
